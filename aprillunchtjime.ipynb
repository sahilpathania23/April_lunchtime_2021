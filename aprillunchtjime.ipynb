{
 "cells": [
  {
   "cell_type": "code",
   "execution_count": 11,
   "metadata": {},
   "outputs": [
    {
     "name": "stdout",
     "output_type": "stream",
     "text": [
      "3\n",
      "11 2\n",
      "10 2\n",
      "13 2\n",
      "5\n",
      "5\n",
      "6\n"
     ]
    }
   ],
   "source": [
    "i=0\n",
    "k=[]\n",
    "j=int(input())\n",
    "for c in range(j):\n",
    "    x,y=map(int,input().split()[:2])\n",
    "    f=x%y\n",
    "    if(f==0):\n",
    "        g=x//y\n",
    "        k.append(g)\n",
    "    else:\n",
    "        p=x//y\n",
    "        k.append(p)\n",
    "for j in range(len(k)):\n",
    "    print(k[j])\n",
    "        "
   ]
  },
  {
   "cell_type": "code",
   "execution_count": 16,
   "metadata": {},
   "outputs": [
    {
     "name": "stdout",
     "output_type": "stream",
     "text": [
      "s\n"
     ]
    }
   ],
   "source": [
    "j=\"sahil\"\n",
    "k=[\"k\",'a']\n",
    "if j[0] in  k:\n",
    "    print(\"present\")\n",
    "print(j[0])"
   ]
  },
  {
   "cell_type": "code",
   "execution_count": 19,
   "metadata": {},
   "outputs": [
    {
     "name": "stdout",
     "output_type": "stream",
     "text": [
      "1\n",
      "2 5 7\n",
      "SDHHD\n",
      "XOXOXOXO\n",
      "ANURADHA\n"
     ]
    }
   ],
   "source": [
    "l=[\"E\",\"Q\",\"U\",\"I\",\"N\",\"O\",\"X\"]\n",
    "j=int(input())\n",
    "p=[]\n",
    "for w in range(j):\n",
    "    f1=0\n",
    "    f=0\n",
    "    n,a,b=map(int,input().split()[:3])\n",
    "    for h in range(n):\n",
    "        d=str(input())\n",
    "        h=d[0]\n",
    "        if h  in l:\n",
    "            f=f+a\n",
    "        else:\n",
    "            f1=f1+b\n",
    "    if f==f1:\n",
    "        p.append(\"DRAW\")\n",
    "    elif f>f1:\n",
    "        p.append(\"SARTHAK\")\n",
    "    else:\n",
    "        p.append(\"ANURADHA\")\n",
    "for q in range(len(p)):\n",
    "    print(p[q])\n",
    "        "
   ]
  },
  {
   "cell_type": "code",
   "execution_count": 37,
   "metadata": {},
   "outputs": [
    {
     "name": "stdout",
     "output_type": "stream",
     "text": [
      "3\n",
      "2\n",
      "0 1\n",
      "3\n",
      "0 0 1\n",
      "1 3\n",
      "4\n",
      "0 1 0 0\n",
      "YES\n",
      "NO\n",
      "YES\n"
     ]
    }
   ],
   "source": [
    "i=int(input())\n",
    "k=[]\n",
    "for r in range(i):\n",
    "    f=int(input())\n",
    "    j=0\n",
    "    l=list(map(int,input().split()[:f]))\n",
    "    if (l[0]+l[1])==1:\n",
    "        k.append(\"YES\")\n",
    "    else:\n",
    "        for f1 in range(len(l)):\n",
    "            if l[f1]==1:\n",
    "                j=j+1\n",
    "        print(j,f)\n",
    "        if(f%2)==0:\n",
    "            jk=f//2\n",
    "        else:\n",
    "            jk=(f//2)+1\n",
    "        if (j==jk):\n",
    "            k.append(\"YES\")\n",
    "        else:\n",
    "            k.append(\"NO\")\n",
    "for h in range(len(k)):\n",
    "    print(k[h])"
   ]
  },
  {
   "cell_type": "code",
   "execution_count": 36,
   "metadata": {},
   "outputs": [
    {
     "name": "stdout",
     "output_type": "stream",
     "text": [
      "1\n"
     ]
    }
   ],
   "source": [
    "print(3%2)"
   ]
  },
  {
   "cell_type": "code",
   "execution_count": null,
   "metadata": {},
   "outputs": [],
   "source": []
  }
 ],
 "metadata": {
  "kernelspec": {
   "display_name": "Python 3",
   "language": "python",
   "name": "python3"
  },
  "language_info": {
   "codemirror_mode": {
    "name": "ipython",
    "version": 3
   },
   "file_extension": ".py",
   "mimetype": "text/x-python",
   "name": "python",
   "nbconvert_exporter": "python",
   "pygments_lexer": "ipython3",
   "version": "3.8.5"
  }
 },
 "nbformat": 4,
 "nbformat_minor": 4
}
